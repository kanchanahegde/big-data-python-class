{
 "cells": [
  {
   "cell_type": "markdown",
   "metadata": {},
   "source": [
    "# Homework 3  - Tryout pandas and numpy\n",
    "\n",
    "Copy this notebook. Rename it as: YOURNAME-Homework-panda-numpy-Sept-2017\n",
    "\n",
    "with your name replacing yourname and  replaced with the date you submit or to the last part.\n",
    "\n",
    "Do the homeworks problems below.\n",
    "\n",
    "Upload your completed jupyter notebook to your github site and send me the url via the elearning site as your homework submission. Please note that you need to do your own 3.4, and 3.5 if you share data and analysis from others then you cannot get more than a 3.  "
   ]
  },
  {
   "cell_type": "markdown",
   "metadata": {},
   "source": [
    "## Homework 3.1\n",
    "\n",
    "### 3.1.a\n",
    "Load the data from: http://opendata.dc.gov/datasets that I have include in this github   \n",
    "into a dataframe.  ( The file has been is available in directory ./data/ccp_current_csv.csv )"
   ]
  },
  {
   "cell_type": "code",
   "execution_count": 219,
   "metadata": {
    "scrolled": true
   },
   "outputs": [
    {
     "data": {
      "text/html": [
       "<div>\n",
       "<style>\n",
       "    .dataframe thead tr:only-child th {\n",
       "        text-align: right;\n",
       "    }\n",
       "\n",
       "    .dataframe thead th {\n",
       "        text-align: left;\n",
       "    }\n",
       "\n",
       "    .dataframe tbody tr th {\n",
       "        vertical-align: top;\n",
       "    }\n",
       "</style>\n",
       "<table border=\"1\" class=\"dataframe\">\n",
       "  <thead>\n",
       "    <tr style=\"text-align: right;\">\n",
       "      <th></th>\n",
       "      <th>STREET</th>\n",
       "      <th>QUADRANT</th>\n",
       "      <th>FROMINTERSECTION</th>\n",
       "      <th>TOINTERSECTION</th>\n",
       "      <th>NOOFBLOCKS</th>\n",
       "      <th>WORKDESCRIPTION</th>\n",
       "      <th>YEARBUDGETED</th>\n",
       "      <th>PERCENTCOMPLETED</th>\n",
       "      <th>STATUS</th>\n",
       "      <th>MILES</th>\n",
       "      <th>...</th>\n",
       "      <th>YCOORD</th>\n",
       "      <th>LATITUDE</th>\n",
       "      <th>LONGITUDE</th>\n",
       "      <th>PROJECTNOTE</th>\n",
       "      <th>PROJECTNAME</th>\n",
       "      <th>PROJECTMGR</th>\n",
       "      <th>PROJECTID</th>\n",
       "      <th>TEAMREP</th>\n",
       "      <th>EMAIL</th>\n",
       "      <th>CONTACTPHONE</th>\n",
       "    </tr>\n",
       "  </thead>\n",
       "  <tbody>\n",
       "    <tr>\n",
       "      <th>0</th>\n",
       "      <td>13th St</td>\n",
       "      <td>NW</td>\n",
       "      <td>Kennedy St</td>\n",
       "      <td>Longfellow St</td>\n",
       "      <td>1</td>\n",
       "      <td>Pavement Resurface/restoration</td>\n",
       "      <td>2004</td>\n",
       "      <td>100</td>\n",
       "      <td>Completed</td>\n",
       "      <td>0.07</td>\n",
       "      <td>...</td>\n",
       "      <td>143205.11981</td>\n",
       "      <td>38.956747</td>\n",
       "      <td>-77.029694</td>\n",
       "      <td>NaN</td>\n",
       "      <td>FedAid</td>\n",
       "      <td>Paul Stephenson</td>\n",
       "      <td>5834</td>\n",
       "      <td>O. Hill</td>\n",
       "      <td>NaN</td>\n",
       "      <td>202-671-4591</td>\n",
       "    </tr>\n",
       "    <tr>\n",
       "      <th>1</th>\n",
       "      <td>S St</td>\n",
       "      <td>NW</td>\n",
       "      <td>North Capitol St</td>\n",
       "      <td>3rd St</td>\n",
       "      <td>3</td>\n",
       "      <td>Regular Cover</td>\n",
       "      <td>1999</td>\n",
       "      <td>100</td>\n",
       "      <td>Completed</td>\n",
       "      <td>0.33</td>\n",
       "      <td>...</td>\n",
       "      <td>138468.90256</td>\n",
       "      <td>38.914085</td>\n",
       "      <td>-77.012411</td>\n",
       "      <td>NaN</td>\n",
       "      <td>NaN</td>\n",
       "      <td>NaN</td>\n",
       "      <td>2467</td>\n",
       "      <td>NaN</td>\n",
       "      <td>NaN</td>\n",
       "      <td>NaN</td>\n",
       "    </tr>\n",
       "    <tr>\n",
       "      <th>2</th>\n",
       "      <td>Rhode Island Ave</td>\n",
       "      <td>NE</td>\n",
       "      <td>Brentwood Rd (W)</td>\n",
       "      <td>Brentwood Rd (M)</td>\n",
       "      <td>1</td>\n",
       "      <td>Pavement Resurface/restoration</td>\n",
       "      <td>2004</td>\n",
       "      <td>100</td>\n",
       "      <td>Completed</td>\n",
       "      <td>0.09</td>\n",
       "      <td>...</td>\n",
       "      <td>139574.10659</td>\n",
       "      <td>38.924041</td>\n",
       "      <td>-76.987221</td>\n",
       "      <td>NaN</td>\n",
       "      <td>Fedral Aid Citywide Pavement Restoration</td>\n",
       "      <td>Mohamed Abdullahi</td>\n",
       "      <td>5486</td>\n",
       "      <td>Said Cherifi</td>\n",
       "      <td>said.cherifi@dc.gov</td>\n",
       "      <td>202-671-4611</td>\n",
       "    </tr>\n",
       "    <tr>\n",
       "      <th>3</th>\n",
       "      <td>Mill Rd</td>\n",
       "      <td>NW</td>\n",
       "      <td>27th St</td>\n",
       "      <td>Cul De Sac</td>\n",
       "      <td>1</td>\n",
       "      <td>Pavement Resurface/restoration</td>\n",
       "      <td>2004</td>\n",
       "      <td>100</td>\n",
       "      <td>Completed</td>\n",
       "      <td>0.07</td>\n",
       "      <td>...</td>\n",
       "      <td>138132.90198</td>\n",
       "      <td>38.911046</td>\n",
       "      <td>-77.054077</td>\n",
       "      <td>POKA-2003-B-0048-JJ</td>\n",
       "      <td>Citywide Pavement Restoration Contract (Local ...</td>\n",
       "      <td>Maduabuchi Udeh</td>\n",
       "      <td>5796</td>\n",
       "      <td>Michael Jelen</td>\n",
       "      <td>Michael.Jelen@dc.gov</td>\n",
       "      <td>202-671-4542</td>\n",
       "    </tr>\n",
       "    <tr>\n",
       "      <th>4</th>\n",
       "      <td>Rhode Island Ave</td>\n",
       "      <td>NE</td>\n",
       "      <td>Brentwood Rd (M)</td>\n",
       "      <td>14th St  Evarts St  Montan</td>\n",
       "      <td>2</td>\n",
       "      <td>Pavement Resurface/restoration</td>\n",
       "      <td>2005</td>\n",
       "      <td>100</td>\n",
       "      <td>Completed</td>\n",
       "      <td>0.16</td>\n",
       "      <td>...</td>\n",
       "      <td>139657.25318</td>\n",
       "      <td>38.924790</td>\n",
       "      <td>-76.985068</td>\n",
       "      <td>NaN</td>\n",
       "      <td>NaN</td>\n",
       "      <td>NaN</td>\n",
       "      <td>8237</td>\n",
       "      <td>NaN</td>\n",
       "      <td>NaN</td>\n",
       "      <td>NaN</td>\n",
       "    </tr>\n",
       "  </tbody>\n",
       "</table>\n",
       "<p>5 rows × 27 columns</p>\n",
       "</div>"
      ],
      "text/plain": [
       "             STREET QUADRANT  FROMINTERSECTION              TOINTERSECTION  \\\n",
       "0           13th St       NW        Kennedy St               Longfellow St   \n",
       "1              S St       NW  North Capitol St                      3rd St   \n",
       "2  Rhode Island Ave       NE  Brentwood Rd (W)            Brentwood Rd (M)   \n",
       "3           Mill Rd       NW           27th St                  Cul De Sac   \n",
       "4  Rhode Island Ave       NE  Brentwood Rd (M)  14th St  Evarts St  Montan   \n",
       "\n",
       "   NOOFBLOCKS                 WORKDESCRIPTION  YEARBUDGETED  PERCENTCOMPLETED  \\\n",
       "0           1  Pavement Resurface/restoration          2004               100   \n",
       "1           3                   Regular Cover          1999               100   \n",
       "2           1  Pavement Resurface/restoration          2004               100   \n",
       "3           1  Pavement Resurface/restoration          2004               100   \n",
       "4           2  Pavement Resurface/restoration          2005               100   \n",
       "\n",
       "      STATUS  MILES      ...             YCOORD   LATITUDE  LONGITUDE  \\\n",
       "0  Completed   0.07      ...       143205.11981  38.956747 -77.029694   \n",
       "1  Completed   0.33      ...       138468.90256  38.914085 -77.012411   \n",
       "2  Completed   0.09      ...       139574.10659  38.924041 -76.987221   \n",
       "3  Completed   0.07      ...       138132.90198  38.911046 -77.054077   \n",
       "4  Completed   0.16      ...       139657.25318  38.924790 -76.985068   \n",
       "\n",
       "           PROJECTNOTE                                        PROJECTNAME  \\\n",
       "0                  NaN                                             FedAid   \n",
       "1                  NaN                                                NaN   \n",
       "2                  NaN           Fedral Aid Citywide Pavement Restoration   \n",
       "3  POKA-2003-B-0048-JJ  Citywide Pavement Restoration Contract (Local ...   \n",
       "4                  NaN                                                NaN   \n",
       "\n",
       "          PROJECTMGR  PROJECTID        TEAMREP                 EMAIL  \\\n",
       "0    Paul Stephenson       5834        O. Hill                   NaN   \n",
       "1                NaN       2467            NaN                   NaN   \n",
       "2  Mohamed Abdullahi       5486   Said Cherifi   said.cherifi@dc.gov   \n",
       "3    Maduabuchi Udeh       5796  Michael Jelen  Michael.Jelen@dc.gov   \n",
       "4                NaN       8237            NaN                   NaN   \n",
       "\n",
       "   CONTACTPHONE  \n",
       "0  202-671-4591  \n",
       "1           NaN  \n",
       "2  202-671-4611  \n",
       "3  202-671-4542  \n",
       "4           NaN  \n",
       "\n",
       "[5 rows x 27 columns]"
      ]
     },
     "execution_count": 219,
     "metadata": {},
     "output_type": "execute_result"
    }
   ],
   "source": [
    "import pandas as pd\n",
    "\n",
    "data = pd.read_csv(\"data/ccp_current_csv.csv\")\n",
    "data.head()\n"
   ]
  },
  {
   "cell_type": "markdown",
   "metadata": {},
   "source": [
    "### 3.1.a  what is its shape and what does that mean?"
   ]
  },
  {
   "cell_type": "code",
   "execution_count": 220,
   "metadata": {},
   "outputs": [
    {
     "data": {
      "text/plain": [
       "(465, 27)"
      ]
     },
     "execution_count": 220,
     "metadata": {},
     "output_type": "execute_result"
    }
   ],
   "source": [
    "data.shape"
   ]
  },
  {
   "cell_type": "markdown",
   "metadata": {},
   "source": [
    "Here 465 is number of different data entries(rows) and 27 is the total number of features in each data entry(columns)which includes class(predict) attribute also."
   ]
  },
  {
   "cell_type": "markdown",
   "metadata": {},
   "source": [
    "## Homework 3.2\n",
    " What are the number of rows in each 'QUADRANT' ?"
   ]
  },
  {
   "cell_type": "code",
   "execution_count": 222,
   "metadata": {},
   "outputs": [
    {
     "data": {
      "text/plain": [
       "NW    195\n",
       "NE    163\n",
       "SE     84\n",
       "BN     12\n",
       "SW     11\n",
       "Name: QUADRANT, dtype: int64"
      ]
     },
     "execution_count": 222,
     "metadata": {},
     "output_type": "execute_result"
    }
   ],
   "source": [
    "# using value_counts() function we can get count of each QUADRANT\n",
    "data['QUADRANT'].value_counts()"
   ]
  },
  {
   "cell_type": "code",
   "execution_count": 223,
   "metadata": {
    "collapsed": true
   },
   "outputs": [],
   "source": [
    "import numpy as np\n",
    "\n",
    "a=np.array([1,2,3,4],dtype=float)\n",
    "b=np.array([5,6,7,8],dtype=float)"
   ]
  },
  {
   "cell_type": "markdown",
   "metadata": {},
   "source": [
    "## Homework 3.3 - Array math demonstration \n",
    "For two arrarys  \n",
    "\n",
    "a= [1,2,3,4]  type=float\n",
    "\n",
    "b= [5,6,7,8]  type=float\n",
    "\n",
    "Peform the following array operations using numpy   \n",
    "( show both operational use of numpy and functional (example addition operation => + vs addition function => numbpy.add() )\n",
    "\n",
    "### 3.3.1 addition a+b "
   ]
  },
  {
   "cell_type": "code",
   "execution_count": 224,
   "metadata": {},
   "outputs": [
    {
     "name": "stdout",
     "output_type": "stream",
     "text": [
      "Operator: [  6.   8.  10.  12.]\n",
      "Numpy Add: [  6.   8.  10.  12.]\n"
     ]
    }
   ],
   "source": [
    "# using Operator\n",
    "print(\"Operator:\",a+b)\n",
    "\n",
    "# using numpy add function\n",
    "print(\"Numpy Add:\",np.add(a,b))\n"
   ]
  },
  {
   "cell_type": "markdown",
   "metadata": {},
   "source": [
    "### 3.3.2 subtraction a-b"
   ]
  },
  {
   "cell_type": "code",
   "execution_count": 225,
   "metadata": {},
   "outputs": [
    {
     "name": "stdout",
     "output_type": "stream",
     "text": [
      "Operator: [-4. -4. -4. -4.]\n",
      "Numpy subtract: [-4. -4. -4. -4.]\n"
     ]
    }
   ],
   "source": [
    "# using Operator\n",
    "print(\"Operator:\",a-b)\n",
    "\n",
    "# using numpy subtract function\n",
    "print(\"Numpy subtract:\",np.subtract(a,b))"
   ]
  },
  {
   "cell_type": "markdown",
   "metadata": {},
   "source": [
    "### 3.3.3 multiplication a*b"
   ]
  },
  {
   "cell_type": "code",
   "execution_count": 226,
   "metadata": {},
   "outputs": [
    {
     "name": "stdout",
     "output_type": "stream",
     "text": [
      "Operator: [  5.  12.  21.  32.]\n",
      "Numpy subtract: [  5.  12.  21.  32.]\n"
     ]
    }
   ],
   "source": [
    "# using Operator\n",
    "print(\"Operator:\",a*b)\n",
    "\n",
    "# using numpy multiply function\n",
    "print(\"Numpy subtract:\",np.multiply(a,b))"
   ]
  },
  {
   "cell_type": "markdown",
   "metadata": {},
   "source": [
    "### 3.3.4 divsion a/b"
   ]
  },
  {
   "cell_type": "code",
   "execution_count": 227,
   "metadata": {},
   "outputs": [
    {
     "name": "stdout",
     "output_type": "stream",
     "text": [
      "Operator: [ 0.2         0.33333333  0.42857143  0.5       ]\n",
      "Numpy Divide: [ 0.2         0.33333333  0.42857143  0.5       ]\n"
     ]
    }
   ],
   "source": [
    "# using Operator\n",
    "print(\"Operator:\",a/b)\n",
    "\n",
    "# using numpy Divide function\n",
    "print(\"Numpy Divide:\",np.divide(a,b))"
   ]
  },
  {
   "cell_type": "markdown",
   "metadata": {},
   "source": [
    "### 3.3.5 modulo  a%b"
   ]
  },
  {
   "cell_type": "code",
   "execution_count": 228,
   "metadata": {},
   "outputs": [
    {
     "name": "stdout",
     "output_type": "stream",
     "text": [
      "Operator: [ 1.  2.  3.  4.]\n",
      "Numpy Divide: [ 1.  2.  3.  4.]\n"
     ]
    }
   ],
   "source": [
    "# using Operator\n",
    "print(\"Operator:\",a%b)\n",
    "\n",
    "# using numpy modulo function\n",
    "print(\"Numpy Divide:\",np.mod(a,b))"
   ]
  },
  {
   "cell_type": "markdown",
   "metadata": {},
   "source": [
    "### 3.3.6 power  a^b"
   ]
  },
  {
   "cell_type": "code",
   "execution_count": 229,
   "metadata": {},
   "outputs": [
    {
     "name": "stdout",
     "output_type": "stream",
     "text": [
      "Operator: [  1.00000000e+00   6.40000000e+01   2.18700000e+03   6.55360000e+04]\n",
      "Numpy Divide: [  1.00000000e+00   6.40000000e+01   2.18700000e+03   6.55360000e+04]\n"
     ]
    }
   ],
   "source": [
    "# using Operator\n",
    "print(\"Operator:\",a**b)\n",
    "\n",
    "# using numpy power function\n",
    "print(\"Numpy Divide:\",np.power(a,b))"
   ]
  },
  {
   "cell_type": "markdown",
   "metadata": {},
   "source": [
    "## Homework 3.4\n",
    "Find your own data and load it into a dataframe\n",
    "\n",
    "Dataset : Heart Disease\n",
    "\n",
    "link:     http://archive.ics.uci.edu/ml/datasets/heart+Disease\n",
    "\n",
    "Description:\n",
    "\n",
    "The following dataset has been used to determine heart disease in the patient. While '0' indicates no heart disease, '1','2','3','4' indicates some kind of heart disease exist in patients.\n",
    "\n",
    "The dataset has 14 attributes including class attribute('NUM').\n",
    "\n",
    "The dataset has some missing values indicated by '?'"
   ]
  },
  {
   "cell_type": "code",
   "execution_count": 230,
   "metadata": {},
   "outputs": [
    {
     "data": {
      "text/html": [
       "<div>\n",
       "<style>\n",
       "    .dataframe thead tr:only-child th {\n",
       "        text-align: right;\n",
       "    }\n",
       "\n",
       "    .dataframe thead th {\n",
       "        text-align: left;\n",
       "    }\n",
       "\n",
       "    .dataframe tbody tr th {\n",
       "        vertical-align: top;\n",
       "    }\n",
       "</style>\n",
       "<table border=\"1\" class=\"dataframe\">\n",
       "  <thead>\n",
       "    <tr style=\"text-align: right;\">\n",
       "      <th></th>\n",
       "      <th>AGE</th>\n",
       "      <th>SEX</th>\n",
       "      <th>CP</th>\n",
       "      <th>TRESTBPC</th>\n",
       "      <th>CHOL</th>\n",
       "      <th>FBS</th>\n",
       "      <th>RESTECG</th>\n",
       "      <th>THALACH</th>\n",
       "      <th>EXANG</th>\n",
       "      <th>OLDPEAK</th>\n",
       "      <th>SLOPE</th>\n",
       "      <th>CA</th>\n",
       "      <th>THAL</th>\n",
       "      <th>NUM</th>\n",
       "    </tr>\n",
       "  </thead>\n",
       "  <tbody>\n",
       "    <tr>\n",
       "      <th>0</th>\n",
       "      <td>63</td>\n",
       "      <td>1</td>\n",
       "      <td>1</td>\n",
       "      <td>145</td>\n",
       "      <td>233</td>\n",
       "      <td>1</td>\n",
       "      <td>2</td>\n",
       "      <td>150</td>\n",
       "      <td>0</td>\n",
       "      <td>2.3</td>\n",
       "      <td>3</td>\n",
       "      <td>0.0</td>\n",
       "      <td>6.0</td>\n",
       "      <td>0</td>\n",
       "    </tr>\n",
       "    <tr>\n",
       "      <th>1</th>\n",
       "      <td>67</td>\n",
       "      <td>1</td>\n",
       "      <td>4</td>\n",
       "      <td>160</td>\n",
       "      <td>286</td>\n",
       "      <td>0</td>\n",
       "      <td>2</td>\n",
       "      <td>108</td>\n",
       "      <td>1</td>\n",
       "      <td>1.5</td>\n",
       "      <td>2</td>\n",
       "      <td>3.0</td>\n",
       "      <td>3.0</td>\n",
       "      <td>2</td>\n",
       "    </tr>\n",
       "    <tr>\n",
       "      <th>2</th>\n",
       "      <td>67</td>\n",
       "      <td>1</td>\n",
       "      <td>4</td>\n",
       "      <td>120</td>\n",
       "      <td>229</td>\n",
       "      <td>0</td>\n",
       "      <td>2</td>\n",
       "      <td>129</td>\n",
       "      <td>1</td>\n",
       "      <td>2.6</td>\n",
       "      <td>2</td>\n",
       "      <td>2.0</td>\n",
       "      <td>7.0</td>\n",
       "      <td>1</td>\n",
       "    </tr>\n",
       "    <tr>\n",
       "      <th>3</th>\n",
       "      <td>37</td>\n",
       "      <td>1</td>\n",
       "      <td>3</td>\n",
       "      <td>130</td>\n",
       "      <td>250</td>\n",
       "      <td>0</td>\n",
       "      <td>0</td>\n",
       "      <td>187</td>\n",
       "      <td>0</td>\n",
       "      <td>3.5</td>\n",
       "      <td>3</td>\n",
       "      <td>0.0</td>\n",
       "      <td>3.0</td>\n",
       "      <td>0</td>\n",
       "    </tr>\n",
       "    <tr>\n",
       "      <th>4</th>\n",
       "      <td>41</td>\n",
       "      <td>0</td>\n",
       "      <td>2</td>\n",
       "      <td>130</td>\n",
       "      <td>204</td>\n",
       "      <td>0</td>\n",
       "      <td>2</td>\n",
       "      <td>172</td>\n",
       "      <td>0</td>\n",
       "      <td>1.4</td>\n",
       "      <td>1</td>\n",
       "      <td>0.0</td>\n",
       "      <td>3.0</td>\n",
       "      <td>0</td>\n",
       "    </tr>\n",
       "  </tbody>\n",
       "</table>\n",
       "</div>"
      ],
      "text/plain": [
       "   AGE  SEX  CP  TRESTBPC  CHOL  FBS  RESTECG  THALACH  EXANG  OLDPEAK  SLOPE  \\\n",
       "0   63    1   1       145   233    1        2      150      0      2.3      3   \n",
       "1   67    1   4       160   286    0        2      108      1      1.5      2   \n",
       "2   67    1   4       120   229    0        2      129      1      2.6      2   \n",
       "3   37    1   3       130   250    0        0      187      0      3.5      3   \n",
       "4   41    0   2       130   204    0        2      172      0      1.4      1   \n",
       "\n",
       "    CA  THAL  NUM  \n",
       "0  0.0   6.0    0  \n",
       "1  3.0   3.0    2  \n",
       "2  2.0   7.0    1  \n",
       "3  0.0   3.0    0  \n",
       "4  0.0   3.0    0  "
      ]
     },
     "execution_count": 230,
     "metadata": {},
     "output_type": "execute_result"
    }
   ],
   "source": [
    "# load the data using pandas read_csv function and replace the missing value indicated by '?' into NaN\n",
    "hd_data=pd.read_csv(\"data/Heart_Disease.csv\",na_values='?')\n",
    "hd_data.head()"
   ]
  },
  {
   "cell_type": "markdown",
   "metadata": {},
   "source": [
    "## Homework 3.5\n",
    "Provide an interesting analysis of the data columns ( frequency or averages )"
   ]
  },
  {
   "cell_type": "code",
   "execution_count": 231,
   "metadata": {},
   "outputs": [
    {
     "data": {
      "text/plain": [
       "(303, 14)"
      ]
     },
     "execution_count": 231,
     "metadata": {},
     "output_type": "execute_result"
    }
   ],
   "source": [
    "# get the number of rows and number of coulmns(features including class attribute) in dataset\n",
    "hd_data.shape"
   ]
  },
  {
   "cell_type": "code",
   "execution_count": 232,
   "metadata": {},
   "outputs": [
    {
     "data": {
      "text/plain": [
       "AGE         False\n",
       "SEX         False\n",
       "CP          False\n",
       "TRESTBPC    False\n",
       "CHOL        False\n",
       "FBS         False\n",
       "RESTECG     False\n",
       "THALACH     False\n",
       "EXANG       False\n",
       "OLDPEAK     False\n",
       "SLOPE       False\n",
       "CA           True\n",
       "THAL         True\n",
       "NUM         False\n",
       "dtype: bool"
      ]
     },
     "execution_count": 232,
     "metadata": {},
     "output_type": "execute_result"
    }
   ],
   "source": [
    "# use isnull function to determine if the dataset has any missing value\n",
    "# any() function outputs 'True' if any value in the particular coulmn has null value \n",
    "# and 'False' if and only if entire column has no Null value \n",
    "hd_data.isnull().any()"
   ]
  },
  {
   "cell_type": "code",
   "execution_count": 233,
   "metadata": {},
   "outputs": [
    {
     "data": {
      "text/plain": [
       "6"
      ]
     },
     "execution_count": 233,
     "metadata": {},
     "output_type": "execute_result"
    }
   ],
   "source": [
    "# Sum() function along with isnull() function can be used to get count of null values in each column\n",
    "# second sum() function is used to add null values of all the coulmns\n",
    "hd_data.isnull().sum().sum()"
   ]
  },
  {
   "cell_type": "code",
   "execution_count": 234,
   "metadata": {},
   "outputs": [
    {
     "data": {
      "text/html": [
       "<div>\n",
       "<style>\n",
       "    .dataframe thead tr:only-child th {\n",
       "        text-align: right;\n",
       "    }\n",
       "\n",
       "    .dataframe thead th {\n",
       "        text-align: left;\n",
       "    }\n",
       "\n",
       "    .dataframe tbody tr th {\n",
       "        vertical-align: top;\n",
       "    }\n",
       "</style>\n",
       "<table border=\"1\" class=\"dataframe\">\n",
       "  <thead>\n",
       "    <tr style=\"text-align: right;\">\n",
       "      <th></th>\n",
       "      <th>AGE</th>\n",
       "      <th>SEX</th>\n",
       "      <th>CP</th>\n",
       "      <th>TRESTBPC</th>\n",
       "      <th>CHOL</th>\n",
       "      <th>FBS</th>\n",
       "      <th>RESTECG</th>\n",
       "      <th>THALACH</th>\n",
       "      <th>EXANG</th>\n",
       "      <th>OLDPEAK</th>\n",
       "      <th>SLOPE</th>\n",
       "      <th>CA</th>\n",
       "      <th>THAL</th>\n",
       "      <th>NUM</th>\n",
       "    </tr>\n",
       "  </thead>\n",
       "  <tbody>\n",
       "    <tr>\n",
       "      <th>87</th>\n",
       "      <td>53</td>\n",
       "      <td>0</td>\n",
       "      <td>3</td>\n",
       "      <td>128</td>\n",
       "      <td>216</td>\n",
       "      <td>0</td>\n",
       "      <td>2</td>\n",
       "      <td>115</td>\n",
       "      <td>0</td>\n",
       "      <td>0.0</td>\n",
       "      <td>1</td>\n",
       "      <td>0.0</td>\n",
       "      <td>NaN</td>\n",
       "      <td>0</td>\n",
       "    </tr>\n",
       "    <tr>\n",
       "      <th>166</th>\n",
       "      <td>52</td>\n",
       "      <td>1</td>\n",
       "      <td>3</td>\n",
       "      <td>138</td>\n",
       "      <td>223</td>\n",
       "      <td>0</td>\n",
       "      <td>0</td>\n",
       "      <td>169</td>\n",
       "      <td>0</td>\n",
       "      <td>0.0</td>\n",
       "      <td>1</td>\n",
       "      <td>NaN</td>\n",
       "      <td>3.0</td>\n",
       "      <td>0</td>\n",
       "    </tr>\n",
       "    <tr>\n",
       "      <th>192</th>\n",
       "      <td>43</td>\n",
       "      <td>1</td>\n",
       "      <td>4</td>\n",
       "      <td>132</td>\n",
       "      <td>247</td>\n",
       "      <td>1</td>\n",
       "      <td>2</td>\n",
       "      <td>143</td>\n",
       "      <td>1</td>\n",
       "      <td>0.1</td>\n",
       "      <td>2</td>\n",
       "      <td>NaN</td>\n",
       "      <td>7.0</td>\n",
       "      <td>1</td>\n",
       "    </tr>\n",
       "    <tr>\n",
       "      <th>266</th>\n",
       "      <td>52</td>\n",
       "      <td>1</td>\n",
       "      <td>4</td>\n",
       "      <td>128</td>\n",
       "      <td>204</td>\n",
       "      <td>1</td>\n",
       "      <td>0</td>\n",
       "      <td>156</td>\n",
       "      <td>1</td>\n",
       "      <td>1.0</td>\n",
       "      <td>2</td>\n",
       "      <td>0.0</td>\n",
       "      <td>NaN</td>\n",
       "      <td>2</td>\n",
       "    </tr>\n",
       "    <tr>\n",
       "      <th>287</th>\n",
       "      <td>58</td>\n",
       "      <td>1</td>\n",
       "      <td>2</td>\n",
       "      <td>125</td>\n",
       "      <td>220</td>\n",
       "      <td>0</td>\n",
       "      <td>0</td>\n",
       "      <td>144</td>\n",
       "      <td>0</td>\n",
       "      <td>0.4</td>\n",
       "      <td>2</td>\n",
       "      <td>NaN</td>\n",
       "      <td>7.0</td>\n",
       "      <td>0</td>\n",
       "    </tr>\n",
       "    <tr>\n",
       "      <th>302</th>\n",
       "      <td>38</td>\n",
       "      <td>1</td>\n",
       "      <td>3</td>\n",
       "      <td>138</td>\n",
       "      <td>175</td>\n",
       "      <td>0</td>\n",
       "      <td>0</td>\n",
       "      <td>173</td>\n",
       "      <td>0</td>\n",
       "      <td>0.0</td>\n",
       "      <td>1</td>\n",
       "      <td>NaN</td>\n",
       "      <td>3.0</td>\n",
       "      <td>0</td>\n",
       "    </tr>\n",
       "  </tbody>\n",
       "</table>\n",
       "</div>"
      ],
      "text/plain": [
       "     AGE  SEX  CP  TRESTBPC  CHOL  FBS  RESTECG  THALACH  EXANG  OLDPEAK  \\\n",
       "87    53    0   3       128   216    0        2      115      0      0.0   \n",
       "166   52    1   3       138   223    0        0      169      0      0.0   \n",
       "192   43    1   4       132   247    1        2      143      1      0.1   \n",
       "266   52    1   4       128   204    1        0      156      1      1.0   \n",
       "287   58    1   2       125   220    0        0      144      0      0.4   \n",
       "302   38    1   3       138   175    0        0      173      0      0.0   \n",
       "\n",
       "     SLOPE   CA  THAL  NUM  \n",
       "87       1  0.0   NaN    0  \n",
       "166      1  NaN   3.0    0  \n",
       "192      2  NaN   7.0    1  \n",
       "266      2  0.0   NaN    2  \n",
       "287      2  NaN   7.0    0  \n",
       "302      1  NaN   3.0    0  "
      ]
     },
     "execution_count": 234,
     "metadata": {},
     "output_type": "execute_result"
    }
   ],
   "source": [
    "# display rows with Null values\n",
    "hd_data[hd_data.CA.isnull() | hd_data.THAL.isnull()]"
   ]
  },
  {
   "cell_type": "code",
   "execution_count": 235,
   "metadata": {
    "collapsed": true
   },
   "outputs": [],
   "source": [
    "# missing values can be replaced by specific value or mean of that particular column etc..\n",
    "hd_data['CA'].fillna(0.0, inplace=True)\n",
    "hd_data['THAL'].fillna(hd_data['THAL'].mean(), inplace=True)"
   ]
  },
  {
   "cell_type": "code",
   "execution_count": 236,
   "metadata": {},
   "outputs": [
    {
     "data": {
      "text/plain": [
       "AGE         False\n",
       "SEX         False\n",
       "CP          False\n",
       "TRESTBPC    False\n",
       "CHOL        False\n",
       "FBS         False\n",
       "RESTECG     False\n",
       "THALACH     False\n",
       "EXANG       False\n",
       "OLDPEAK     False\n",
       "SLOPE       False\n",
       "CA          False\n",
       "THAL        False\n",
       "NUM         False\n",
       "dtype: bool"
      ]
     },
     "execution_count": 236,
     "metadata": {},
     "output_type": "execute_result"
    }
   ],
   "source": [
    "# check again if there are any Null values\n",
    "hd_data.isnull().any()"
   ]
  },
  {
   "cell_type": "code",
   "execution_count": 237,
   "metadata": {
    "collapsed": true
   },
   "outputs": [],
   "source": [
    "# for the purpose of analysis, replacing the values 2, 3, 4 into 1 to classify \n",
    "# all of them as presence of heart disease\n",
    "hd_data['NUM'].replace([2,3,4], 1, inplace=True)"
   ]
  },
  {
   "cell_type": "markdown",
   "metadata": {},
   "source": [
    "#### Analysis"
   ]
  },
  {
   "cell_type": "code",
   "execution_count": 238,
   "metadata": {},
   "outputs": [
    {
     "data": {
      "text/plain": [
       "0    164\n",
       "1    139\n",
       "Name: NUM, dtype: int64"
      ]
     },
     "execution_count": 238,
     "metadata": {},
     "output_type": "execute_result"
    }
   ],
   "source": [
    "# calculate the number of patient suffering heart disease and not suffering heart disease\n",
    "hd_data['NUM'].value_counts()"
   ]
  },
  {
   "cell_type": "markdown",
   "metadata": {},
   "source": [
    "Out of 303, 164 people suffer some kind of heart problem whereas 139 people dont have any heart problem."
   ]
  },
  {
   "cell_type": "code",
   "execution_count": 239,
   "metadata": {},
   "outputs": [
    {
     "data": {
      "text/plain": [
       "1    206\n",
       "0     97\n",
       "Name: SEX, dtype: int64"
      ]
     },
     "execution_count": 239,
     "metadata": {},
     "output_type": "execute_result"
    }
   ],
   "source": [
    "# get the number of males and females in the dataset\n",
    "hd_data['SEX'].value_counts()"
   ]
  },
  {
   "cell_type": "markdown",
   "metadata": {},
   "source": [
    "Out of 303, 207 people are male 97 are female.This indicates there are more males than females in this dataset."
   ]
  },
  {
   "cell_type": "code",
   "execution_count": 240,
   "metadata": {},
   "outputs": [
    {
     "name": "stdout",
     "output_type": "stream",
     "text": [
      "SEX  NUM\n",
      "0    0       72\n",
      "     1       25\n",
      "1    0       92\n",
      "     1      114\n",
      "Name: SEX, dtype: int64\n",
      "SEX  NUM\n",
      "0    0      23.762376\n",
      "     1       8.250825\n",
      "1    0      30.363036\n",
      "     1      37.623762\n",
      "Name: SEX, dtype: float64\n"
     ]
    }
   ],
   "source": [
    "# calculate the number of male and female suffering from heart disease\n",
    "# we can use groupby function to know, how many male and female patient suffer from heart disease\n",
    "result=hd_data.groupby(['SEX','NUM'])['SEX'].count()\n",
    "print(result)\n",
    "print(result/len(hd_data)*100)"
   ]
  },
  {
   "cell_type": "markdown",
   "metadata": {},
   "source": [
    "From the first and second result, we can see, out of 97 females, 25 females(8.25%) suffer from Heart disease and out of 206 males, 114 males(37%) suffer from heart disease.\n",
    "From the above results, males are more likely to suffer from heart disease than females.\n"
   ]
  },
  {
   "cell_type": "code",
   "execution_count": 241,
   "metadata": {},
   "outputs": [
    {
     "data": {
      "text/plain": [
       "56.62589928057554"
      ]
     },
     "execution_count": 241,
     "metadata": {},
     "output_type": "execute_result"
    }
   ],
   "source": [
    "# let us see, if age determines the heart disease or not\n",
    "# first let us know the mean age of the dataset where there is some kind of heart disease exist\n",
    "# we can use pandas mean function to calculate mean\n",
    "hd_data['AGE'][hd_data['NUM']==1].mean()\n"
   ]
  },
  {
   "cell_type": "markdown",
   "metadata": {},
   "source": [
    "From the above results,aged people are more likely to suffer from some kind of heart disease."
   ]
  },
  {
   "cell_type": "code",
   "execution_count": 242,
   "metadata": {},
   "outputs": [
    {
     "data": {
      "text/plain": [
       "(50, 80]    209\n",
       "(30, 50]     93\n",
       "(0, 30]       1\n",
       "Name: AGE_BIN, dtype: int64"
      ]
     },
     "execution_count": 242,
     "metadata": {},
     "output_type": "execute_result"
    }
   ],
   "source": [
    "# more analysis using age attribute\n",
    "# we can put ages into bins using pandas cut function  \n",
    "# and then use value_counts() function to get count of each bin\n",
    "bins=[0,30,50,80]\n",
    "hd_data['AGE_BIN'] = pd.cut(hd_data['AGE'], bins=bins)\n",
    "hd_data['AGE_BIN'].value_counts()"
   ]
  },
  {
   "cell_type": "code",
   "execution_count": 243,
   "metadata": {},
   "outputs": [
    {
     "data": {
      "text/plain": [
       "AGE_BIN   NUM\n",
       "(0, 30]   0        1\n",
       "(30, 50]  0       64\n",
       "          1       29\n",
       "(50, 80]  0       99\n",
       "          1      110\n",
       "Name: AGE_BIN, dtype: int64"
      ]
     },
     "execution_count": 243,
     "metadata": {},
     "output_type": "execute_result"
    }
   ],
   "source": [
    "# using groupby function , we can group AGE_BIN based on heart disease or no heart disease category\n",
    "hd_data.groupby(['AGE_BIN','NUM'])['AGE_BIN'].count()"
   ]
  },
  {
   "cell_type": "markdown",
   "metadata": {},
   "source": [
    "From the above results, its more likely for people after age 50 suffer from some kind of heart disease."
   ]
  },
  {
   "cell_type": "code",
   "execution_count": 244,
   "metadata": {},
   "outputs": [
    {
     "data": {
      "text/plain": [
       "69"
      ]
     },
     "execution_count": 244,
     "metadata": {},
     "output_type": "execute_result"
    }
   ],
   "source": [
    "# let us see if cholestrol level is directly responsible for heart disease\n",
    "# get the number of patient with high chol and suffering heart disease \n",
    "sum(hd_data.loc[hd_data['CHOL'] > 250]['NUM']==1)"
   ]
  },
  {
   "cell_type": "markdown",
   "metadata": {},
   "source": [
    "Above 69 indicates, only 69 people out of 303 are having some kind of heart diease.Hence,knowing just cholestrol level would not help in determining heart disease.\n"
   ]
  },
  {
   "cell_type": "code",
   "execution_count": 245,
   "metadata": {},
   "outputs": [
    {
     "data": {
      "text/html": [
       "<div>\n",
       "<style>\n",
       "    .dataframe thead tr:only-child th {\n",
       "        text-align: right;\n",
       "    }\n",
       "\n",
       "    .dataframe thead th {\n",
       "        text-align: left;\n",
       "    }\n",
       "\n",
       "    .dataframe tbody tr th {\n",
       "        vertical-align: top;\n",
       "    }\n",
       "</style>\n",
       "<table border=\"1\" class=\"dataframe\">\n",
       "  <thead>\n",
       "    <tr style=\"text-align: right;\">\n",
       "      <th></th>\n",
       "      <th>NUM</th>\n",
       "      <th>CHOL</th>\n",
       "      <th>AGE</th>\n",
       "      <th>THAL</th>\n",
       "    </tr>\n",
       "  </thead>\n",
       "  <tbody>\n",
       "    <tr>\n",
       "      <th>NUM</th>\n",
       "      <td>1.000000</td>\n",
       "      <td>0.085164</td>\n",
       "      <td>0.223120</td>\n",
       "      <td>0.523928</td>\n",
       "    </tr>\n",
       "    <tr>\n",
       "      <th>CHOL</th>\n",
       "      <td>0.085164</td>\n",
       "      <td>1.000000</td>\n",
       "      <td>0.208950</td>\n",
       "      <td>0.014190</td>\n",
       "    </tr>\n",
       "    <tr>\n",
       "      <th>AGE</th>\n",
       "      <td>0.223120</td>\n",
       "      <td>0.208950</td>\n",
       "      <td>1.000000</td>\n",
       "      <td>0.127368</td>\n",
       "    </tr>\n",
       "    <tr>\n",
       "      <th>THAL</th>\n",
       "      <td>0.523928</td>\n",
       "      <td>0.014190</td>\n",
       "      <td>0.127368</td>\n",
       "      <td>1.000000</td>\n",
       "    </tr>\n",
       "  </tbody>\n",
       "</table>\n",
       "</div>"
      ],
      "text/plain": [
       "           NUM      CHOL       AGE      THAL\n",
       "NUM   1.000000  0.085164  0.223120  0.523928\n",
       "CHOL  0.085164  1.000000  0.208950  0.014190\n",
       "AGE   0.223120  0.208950  1.000000  0.127368\n",
       "THAL  0.523928  0.014190  0.127368  1.000000"
      ]
     },
     "execution_count": 245,
     "metadata": {},
     "output_type": "execute_result"
    }
   ],
   "source": [
    "# we can also use corr() function to determine if there is any correlatin between data\n",
    "hd_data[['NUM','CHOL','AGE','THAL']].corr()"
   ]
  },
  {
   "cell_type": "markdown",
   "metadata": {},
   "source": [
    "Above, we can see CHOL and NUM are not highly correlated to each other, AGE is better than CHOL and, THAL and NUM are highly correlated."
   ]
  },
  {
   "cell_type": "code",
   "execution_count": 246,
   "metadata": {},
   "outputs": [
    {
     "data": {
      "text/plain": [
       "THAL      NUM\n",
       "3.000000  0      129\n",
       "          1       37\n",
       "4.734219  0        1\n",
       "          1        1\n",
       "6.000000  0        6\n",
       "          1       12\n",
       "7.000000  0       28\n",
       "          1       89\n",
       "Name: THAL, dtype: int64"
      ]
     },
     "execution_count": 246,
     "metadata": {},
     "output_type": "execute_result"
    }
   ],
   "source": [
    "hd_data.groupby(['THAL','NUM'])['THAL'].count()"
   ]
  },
  {
   "cell_type": "markdown",
   "metadata": {},
   "source": [
    "As we can see , people with THAL value 6 and 7 are suffering from some kind of heart disease."
   ]
  },
  {
   "cell_type": "code",
   "execution_count": 247,
   "metadata": {},
   "outputs": [
    {
     "data": {
      "text/html": [
       "<div>\n",
       "<style>\n",
       "    .dataframe thead tr:only-child th {\n",
       "        text-align: right;\n",
       "    }\n",
       "\n",
       "    .dataframe thead th {\n",
       "        text-align: left;\n",
       "    }\n",
       "\n",
       "    .dataframe tbody tr th {\n",
       "        vertical-align: top;\n",
       "    }\n",
       "</style>\n",
       "<table border=\"1\" class=\"dataframe\">\n",
       "  <thead>\n",
       "    <tr style=\"text-align: right;\">\n",
       "      <th></th>\n",
       "      <th>AGE</th>\n",
       "      <th>SEX</th>\n",
       "      <th>CP</th>\n",
       "      <th>TRESTBPC</th>\n",
       "      <th>CHOL</th>\n",
       "      <th>FBS</th>\n",
       "      <th>RESTECG</th>\n",
       "      <th>THALACH</th>\n",
       "      <th>EXANG</th>\n",
       "      <th>OLDPEAK</th>\n",
       "      <th>SLOPE</th>\n",
       "      <th>CA</th>\n",
       "      <th>THAL</th>\n",
       "      <th>NUM</th>\n",
       "    </tr>\n",
       "  </thead>\n",
       "  <tbody>\n",
       "    <tr>\n",
       "      <th>count</th>\n",
       "      <td>303.000000</td>\n",
       "      <td>303.000000</td>\n",
       "      <td>303.000000</td>\n",
       "      <td>303.000000</td>\n",
       "      <td>303.000000</td>\n",
       "      <td>303.000000</td>\n",
       "      <td>303.000000</td>\n",
       "      <td>303.000000</td>\n",
       "      <td>303.000000</td>\n",
       "      <td>303.000000</td>\n",
       "      <td>303.000000</td>\n",
       "      <td>303.000000</td>\n",
       "      <td>303.000000</td>\n",
       "      <td>303.000000</td>\n",
       "    </tr>\n",
       "    <tr>\n",
       "      <th>mean</th>\n",
       "      <td>54.438944</td>\n",
       "      <td>0.679868</td>\n",
       "      <td>3.158416</td>\n",
       "      <td>131.689769</td>\n",
       "      <td>246.693069</td>\n",
       "      <td>0.148515</td>\n",
       "      <td>0.990099</td>\n",
       "      <td>149.607261</td>\n",
       "      <td>0.326733</td>\n",
       "      <td>1.039604</td>\n",
       "      <td>1.600660</td>\n",
       "      <td>0.663366</td>\n",
       "      <td>4.734219</td>\n",
       "      <td>0.458746</td>\n",
       "    </tr>\n",
       "    <tr>\n",
       "      <th>std</th>\n",
       "      <td>9.038662</td>\n",
       "      <td>0.467299</td>\n",
       "      <td>0.960126</td>\n",
       "      <td>17.599748</td>\n",
       "      <td>51.776918</td>\n",
       "      <td>0.356198</td>\n",
       "      <td>0.994971</td>\n",
       "      <td>22.875003</td>\n",
       "      <td>0.469794</td>\n",
       "      <td>1.161075</td>\n",
       "      <td>0.616226</td>\n",
       "      <td>0.934375</td>\n",
       "      <td>1.933272</td>\n",
       "      <td>0.499120</td>\n",
       "    </tr>\n",
       "    <tr>\n",
       "      <th>min</th>\n",
       "      <td>29.000000</td>\n",
       "      <td>0.000000</td>\n",
       "      <td>1.000000</td>\n",
       "      <td>94.000000</td>\n",
       "      <td>126.000000</td>\n",
       "      <td>0.000000</td>\n",
       "      <td>0.000000</td>\n",
       "      <td>71.000000</td>\n",
       "      <td>0.000000</td>\n",
       "      <td>0.000000</td>\n",
       "      <td>1.000000</td>\n",
       "      <td>0.000000</td>\n",
       "      <td>3.000000</td>\n",
       "      <td>0.000000</td>\n",
       "    </tr>\n",
       "    <tr>\n",
       "      <th>25%</th>\n",
       "      <td>48.000000</td>\n",
       "      <td>0.000000</td>\n",
       "      <td>3.000000</td>\n",
       "      <td>120.000000</td>\n",
       "      <td>211.000000</td>\n",
       "      <td>0.000000</td>\n",
       "      <td>0.000000</td>\n",
       "      <td>133.500000</td>\n",
       "      <td>0.000000</td>\n",
       "      <td>0.000000</td>\n",
       "      <td>1.000000</td>\n",
       "      <td>0.000000</td>\n",
       "      <td>3.000000</td>\n",
       "      <td>0.000000</td>\n",
       "    </tr>\n",
       "    <tr>\n",
       "      <th>50%</th>\n",
       "      <td>56.000000</td>\n",
       "      <td>1.000000</td>\n",
       "      <td>3.000000</td>\n",
       "      <td>130.000000</td>\n",
       "      <td>241.000000</td>\n",
       "      <td>0.000000</td>\n",
       "      <td>1.000000</td>\n",
       "      <td>153.000000</td>\n",
       "      <td>0.000000</td>\n",
       "      <td>0.800000</td>\n",
       "      <td>2.000000</td>\n",
       "      <td>0.000000</td>\n",
       "      <td>3.000000</td>\n",
       "      <td>0.000000</td>\n",
       "    </tr>\n",
       "    <tr>\n",
       "      <th>75%</th>\n",
       "      <td>61.000000</td>\n",
       "      <td>1.000000</td>\n",
       "      <td>4.000000</td>\n",
       "      <td>140.000000</td>\n",
       "      <td>275.000000</td>\n",
       "      <td>0.000000</td>\n",
       "      <td>2.000000</td>\n",
       "      <td>166.000000</td>\n",
       "      <td>1.000000</td>\n",
       "      <td>1.600000</td>\n",
       "      <td>2.000000</td>\n",
       "      <td>1.000000</td>\n",
       "      <td>7.000000</td>\n",
       "      <td>1.000000</td>\n",
       "    </tr>\n",
       "    <tr>\n",
       "      <th>max</th>\n",
       "      <td>77.000000</td>\n",
       "      <td>1.000000</td>\n",
       "      <td>4.000000</td>\n",
       "      <td>200.000000</td>\n",
       "      <td>564.000000</td>\n",
       "      <td>1.000000</td>\n",
       "      <td>2.000000</td>\n",
       "      <td>202.000000</td>\n",
       "      <td>1.000000</td>\n",
       "      <td>6.200000</td>\n",
       "      <td>3.000000</td>\n",
       "      <td>3.000000</td>\n",
       "      <td>7.000000</td>\n",
       "      <td>1.000000</td>\n",
       "    </tr>\n",
       "  </tbody>\n",
       "</table>\n",
       "</div>"
      ],
      "text/plain": [
       "              AGE         SEX          CP    TRESTBPC        CHOL         FBS  \\\n",
       "count  303.000000  303.000000  303.000000  303.000000  303.000000  303.000000   \n",
       "mean    54.438944    0.679868    3.158416  131.689769  246.693069    0.148515   \n",
       "std      9.038662    0.467299    0.960126   17.599748   51.776918    0.356198   \n",
       "min     29.000000    0.000000    1.000000   94.000000  126.000000    0.000000   \n",
       "25%     48.000000    0.000000    3.000000  120.000000  211.000000    0.000000   \n",
       "50%     56.000000    1.000000    3.000000  130.000000  241.000000    0.000000   \n",
       "75%     61.000000    1.000000    4.000000  140.000000  275.000000    0.000000   \n",
       "max     77.000000    1.000000    4.000000  200.000000  564.000000    1.000000   \n",
       "\n",
       "          RESTECG     THALACH       EXANG     OLDPEAK       SLOPE          CA  \\\n",
       "count  303.000000  303.000000  303.000000  303.000000  303.000000  303.000000   \n",
       "mean     0.990099  149.607261    0.326733    1.039604    1.600660    0.663366   \n",
       "std      0.994971   22.875003    0.469794    1.161075    0.616226    0.934375   \n",
       "min      0.000000   71.000000    0.000000    0.000000    1.000000    0.000000   \n",
       "25%      0.000000  133.500000    0.000000    0.000000    1.000000    0.000000   \n",
       "50%      1.000000  153.000000    0.000000    0.800000    2.000000    0.000000   \n",
       "75%      2.000000  166.000000    1.000000    1.600000    2.000000    1.000000   \n",
       "max      2.000000  202.000000    1.000000    6.200000    3.000000    3.000000   \n",
       "\n",
       "             THAL         NUM  \n",
       "count  303.000000  303.000000  \n",
       "mean     4.734219    0.458746  \n",
       "std      1.933272    0.499120  \n",
       "min      3.000000    0.000000  \n",
       "25%      3.000000    0.000000  \n",
       "50%      3.000000    0.000000  \n",
       "75%      7.000000    1.000000  \n",
       "max      7.000000    1.000000  "
      ]
     },
     "execution_count": 247,
     "metadata": {},
     "output_type": "execute_result"
    }
   ],
   "source": [
    "# we can use describe() function to get overall picture about dataset \n",
    "hd_data.describe()"
   ]
  },
  {
   "cell_type": "code",
   "execution_count": 248,
   "metadata": {},
   "outputs": [
    {
     "data": {
      "text/html": [
       "<div>\n",
       "<style>\n",
       "    .dataframe thead tr:only-child th {\n",
       "        text-align: right;\n",
       "    }\n",
       "\n",
       "    .dataframe thead th {\n",
       "        text-align: left;\n",
       "    }\n",
       "\n",
       "    .dataframe tbody tr th {\n",
       "        vertical-align: top;\n",
       "    }\n",
       "</style>\n",
       "<table border=\"1\" class=\"dataframe\">\n",
       "  <thead>\n",
       "    <tr style=\"text-align: right;\">\n",
       "      <th></th>\n",
       "      <th>AGE</th>\n",
       "      <th>SEX</th>\n",
       "      <th>CP</th>\n",
       "      <th>TRESTBPC</th>\n",
       "      <th>CHOL</th>\n",
       "      <th>FBS</th>\n",
       "      <th>RESTECG</th>\n",
       "      <th>THALACH</th>\n",
       "      <th>EXANG</th>\n",
       "      <th>OLDPEAK</th>\n",
       "      <th>SLOPE</th>\n",
       "      <th>CA</th>\n",
       "      <th>THAL</th>\n",
       "      <th>NUM</th>\n",
       "      <th>AGE_BIN</th>\n",
       "    </tr>\n",
       "  </thead>\n",
       "  <tbody>\n",
       "    <tr>\n",
       "      <th>max</th>\n",
       "      <td>77.000000</td>\n",
       "      <td>1.000000</td>\n",
       "      <td>4.000000</td>\n",
       "      <td>200.000000</td>\n",
       "      <td>564.000000</td>\n",
       "      <td>1.000000</td>\n",
       "      <td>2.000000</td>\n",
       "      <td>202.000000</td>\n",
       "      <td>1.000000</td>\n",
       "      <td>6.200000</td>\n",
       "      <td>3.00000</td>\n",
       "      <td>3.000000</td>\n",
       "      <td>7.000000</td>\n",
       "      <td>1.000000</td>\n",
       "      <td>(50, 80]</td>\n",
       "    </tr>\n",
       "    <tr>\n",
       "      <th>mean</th>\n",
       "      <td>54.438944</td>\n",
       "      <td>0.679868</td>\n",
       "      <td>3.158416</td>\n",
       "      <td>131.689769</td>\n",
       "      <td>246.693069</td>\n",
       "      <td>0.148515</td>\n",
       "      <td>0.990099</td>\n",
       "      <td>149.607261</td>\n",
       "      <td>0.326733</td>\n",
       "      <td>1.039604</td>\n",
       "      <td>1.60066</td>\n",
       "      <td>0.663366</td>\n",
       "      <td>4.734219</td>\n",
       "      <td>0.458746</td>\n",
       "      <td>NaN</td>\n",
       "    </tr>\n",
       "    <tr>\n",
       "      <th>min</th>\n",
       "      <td>29.000000</td>\n",
       "      <td>0.000000</td>\n",
       "      <td>1.000000</td>\n",
       "      <td>94.000000</td>\n",
       "      <td>126.000000</td>\n",
       "      <td>0.000000</td>\n",
       "      <td>0.000000</td>\n",
       "      <td>71.000000</td>\n",
       "      <td>0.000000</td>\n",
       "      <td>0.000000</td>\n",
       "      <td>1.00000</td>\n",
       "      <td>0.000000</td>\n",
       "      <td>3.000000</td>\n",
       "      <td>0.000000</td>\n",
       "      <td>(0, 30]</td>\n",
       "    </tr>\n",
       "  </tbody>\n",
       "</table>\n",
       "</div>"
      ],
      "text/plain": [
       "            AGE       SEX        CP    TRESTBPC        CHOL       FBS  \\\n",
       "max   77.000000  1.000000  4.000000  200.000000  564.000000  1.000000   \n",
       "mean  54.438944  0.679868  3.158416  131.689769  246.693069  0.148515   \n",
       "min   29.000000  0.000000  1.000000   94.000000  126.000000  0.000000   \n",
       "\n",
       "       RESTECG     THALACH     EXANG   OLDPEAK    SLOPE        CA      THAL  \\\n",
       "max   2.000000  202.000000  1.000000  6.200000  3.00000  3.000000  7.000000   \n",
       "mean  0.990099  149.607261  0.326733  1.039604  1.60066  0.663366  4.734219   \n",
       "min   0.000000   71.000000  0.000000  0.000000  1.00000  0.000000  3.000000   \n",
       "\n",
       "           NUM   AGE_BIN  \n",
       "max   1.000000  (50, 80]  \n",
       "mean  0.458746       NaN  \n",
       "min   0.000000   (0, 30]  "
      ]
     },
     "execution_count": 248,
     "metadata": {},
     "output_type": "execute_result"
    }
   ],
   "source": [
    "# we can even use agg function instead of describe() to each column (feature)  and specify set of operation\n",
    "# need to be applied to each column\n",
    "hd_data.agg(['mean', 'min','max'])"
   ]
  },
  {
   "cell_type": "raw",
   "metadata": {},
   "source": []
  },
  {
   "cell_type": "code",
   "execution_count": 249,
   "metadata": {},
   "outputs": [
    {
     "data": {
      "text/html": [
       "<div>\n",
       "<style>\n",
       "    .dataframe thead tr:only-child th {\n",
       "        text-align: right;\n",
       "    }\n",
       "\n",
       "    .dataframe thead th {\n",
       "        text-align: left;\n",
       "    }\n",
       "\n",
       "    .dataframe tbody tr th {\n",
       "        vertical-align: top;\n",
       "    }\n",
       "</style>\n",
       "<table border=\"1\" class=\"dataframe\">\n",
       "  <thead>\n",
       "    <tr style=\"text-align: right;\">\n",
       "      <th></th>\n",
       "      <th>AGE</th>\n",
       "      <th>SEX</th>\n",
       "      <th>CP</th>\n",
       "      <th>TRESTBPC</th>\n",
       "      <th>CHOL</th>\n",
       "      <th>FBS</th>\n",
       "      <th>RESTECG</th>\n",
       "      <th>THALACH</th>\n",
       "      <th>EXANG</th>\n",
       "      <th>OLDPEAK</th>\n",
       "      <th>SLOPE</th>\n",
       "      <th>CA</th>\n",
       "      <th>THAL</th>\n",
       "      <th>NUM</th>\n",
       "    </tr>\n",
       "  </thead>\n",
       "  <tbody>\n",
       "    <tr>\n",
       "      <th>mean</th>\n",
       "      <td>0.529978</td>\n",
       "      <td>0.679868</td>\n",
       "      <td>0.719472</td>\n",
       "      <td>0.355564</td>\n",
       "      <td>0.275555</td>\n",
       "      <td>0.148515</td>\n",
       "      <td>0.49505</td>\n",
       "      <td>0.600055</td>\n",
       "      <td>0.326733</td>\n",
       "      <td>0.167678</td>\n",
       "      <td>0.30033</td>\n",
       "      <td>0.221122</td>\n",
       "      <td>0.433555</td>\n",
       "      <td>0.458746</td>\n",
       "    </tr>\n",
       "    <tr>\n",
       "      <th>min</th>\n",
       "      <td>0.000000</td>\n",
       "      <td>0.000000</td>\n",
       "      <td>0.000000</td>\n",
       "      <td>0.000000</td>\n",
       "      <td>0.000000</td>\n",
       "      <td>0.000000</td>\n",
       "      <td>0.00000</td>\n",
       "      <td>0.000000</td>\n",
       "      <td>0.000000</td>\n",
       "      <td>0.000000</td>\n",
       "      <td>0.00000</td>\n",
       "      <td>0.000000</td>\n",
       "      <td>0.000000</td>\n",
       "      <td>0.000000</td>\n",
       "    </tr>\n",
       "    <tr>\n",
       "      <th>max</th>\n",
       "      <td>1.000000</td>\n",
       "      <td>1.000000</td>\n",
       "      <td>1.000000</td>\n",
       "      <td>1.000000</td>\n",
       "      <td>1.000000</td>\n",
       "      <td>1.000000</td>\n",
       "      <td>1.00000</td>\n",
       "      <td>1.000000</td>\n",
       "      <td>1.000000</td>\n",
       "      <td>1.000000</td>\n",
       "      <td>1.00000</td>\n",
       "      <td>1.000000</td>\n",
       "      <td>1.000000</td>\n",
       "      <td>1.000000</td>\n",
       "    </tr>\n",
       "  </tbody>\n",
       "</table>\n",
       "</div>"
      ],
      "text/plain": [
       "           AGE       SEX        CP  TRESTBPC      CHOL       FBS  RESTECG  \\\n",
       "mean  0.529978  0.679868  0.719472  0.355564  0.275555  0.148515  0.49505   \n",
       "min   0.000000  0.000000  0.000000  0.000000  0.000000  0.000000  0.00000   \n",
       "max   1.000000  1.000000  1.000000  1.000000  1.000000  1.000000  1.00000   \n",
       "\n",
       "       THALACH     EXANG   OLDPEAK    SLOPE        CA      THAL       NUM  \n",
       "mean  0.600055  0.326733  0.167678  0.30033  0.221122  0.433555  0.458746  \n",
       "min   0.000000  0.000000  0.000000  0.00000  0.000000  0.000000  0.000000  \n",
       "max   1.000000  1.000000  1.000000  1.00000  1.000000  1.000000  1.000000  "
      ]
     },
     "execution_count": 249,
     "metadata": {},
     "output_type": "execute_result"
    }
   ],
   "source": [
    "# some Machine learning algorithm might not work correctly if features are not normalized \n",
    "# we can easily normalize the data using pandas functions\n",
    "import numpy as np\n",
    "del hd_data['AGE_BIN']\n",
    "#hd_data_nor = hd_data.apply(lambda x: (x - np.mean(x)) / (np.max(x) - np.min(x)))\n",
    "hd_data_nor = (hd_data - hd_data.min()) / (hd_data.max() - hd_data.min())\n",
    "hd_data_nor.agg(['mean', 'min','max']) "
   ]
  },
  {
   "cell_type": "markdown",
   "metadata": {},
   "source": [
    "As we can see now, all the features are values are between 0 and 1"
   ]
  },
  {
   "cell_type": "code",
   "execution_count": null,
   "metadata": {
    "collapsed": true
   },
   "outputs": [],
   "source": []
  },
  {
   "cell_type": "code",
   "execution_count": null,
   "metadata": {
    "collapsed": true
   },
   "outputs": [],
   "source": []
  }
 ],
 "metadata": {
  "kernelspec": {
   "display_name": "Python 3",
   "language": "python",
   "name": "python3"
  },
  "language_info": {
   "codemirror_mode": {
    "name": "ipython",
    "version": 3
   },
   "file_extension": ".py",
   "mimetype": "text/x-python",
   "name": "python",
   "nbconvert_exporter": "python",
   "pygments_lexer": "ipython3",
   "version": "3.6.2"
  }
 },
 "nbformat": 4,
 "nbformat_minor": 1
}
