{
 "cells": [
  {
   "cell_type": "markdown",
   "metadata": {},
   "source": [
    "### Hand Written Digit classification using Tensorflow\n",
    "\n",
    "In this Tutorial we will construct a deep neural network model using tensorflow library for Classifying hand written digits.\n",
    "To know more about core Tensorflow , Refer to another tutorial:\n",
    "\n",
    "This tutorial aims at \n",
    "1. Train the model to recognize digits by having it \"look\" at thousands of examples using Tensorflow datagraph.\n",
    "2. Check the model's accuracy with test data"
   ]
  },
  {
   "cell_type": "code",
   "execution_count": 23,
   "metadata": {
    "collapsed": true
   },
   "outputs": [],
   "source": [
    "import tensorflow as tf\n",
    "import matplotlib.pyplot as plt\n",
    "import seaborn as sns\n",
    "%matplotlib inline"
   ]
  },
  {
   "cell_type": "markdown",
   "metadata": {},
   "source": [
    "#### Load MNIST Data\n",
    "we can use tensorflow existing function for loading MNIST data. \n",
    "The MNIST database of handwritten digits, has a training set of 60,000 examples, and a test set of 10,000 examples and 10 target classes (0-9).\n",
    "Ecah image is 28 x 28 pixel and they are grey scale."
   ]
  },
  {
   "cell_type": "code",
   "execution_count": 3,
   "metadata": {},
   "outputs": [
    {
     "name": "stdout",
     "output_type": "stream",
     "text": [
      "Successfully downloaded train-images-idx3-ubyte.gz 9912422 bytes.\n",
      "Extracting MNIST_data/train-images-idx3-ubyte.gz\n",
      "Successfully downloaded train-labels-idx1-ubyte.gz 28881 bytes.\n",
      "Extracting MNIST_data/train-labels-idx1-ubyte.gz\n",
      "Successfully downloaded t10k-images-idx3-ubyte.gz 1648877 bytes.\n",
      "Extracting MNIST_data/t10k-images-idx3-ubyte.gz\n",
      "Successfully downloaded t10k-labels-idx1-ubyte.gz 4542 bytes.\n",
      "Extracting MNIST_data/t10k-labels-idx1-ubyte.gz\n"
     ]
    }
   ],
   "source": [
    "from tensorflow.examples.tutorials.mnist import input_data\n",
    "mnist = input_data.read_data_sets('MNIST_data', one_hot=True)"
   ]
  },
  {
   "cell_type": "markdown",
   "metadata": {},
   "source": [
    "#### Visualize some images"
   ]
  },
  {
   "cell_type": "code",
   "execution_count": 40,
   "metadata": {},
   "outputs": [
    {
     "data": {
      "image/png": "[encoded data removed]",
      "text/plain": [
       "<matplotlib.figure.Figure at 0x7f098b4a74e0>"
      ]
     },
     "metadata": {},
     "output_type": "display_data"
    }
   ],
   "source": [
    "f,ax = plt.subplots(1,5)\n",
    "for i in range(5):\n",
    "    ax[i].imshow(np.array(mnist.train.images[i], dtype='float').reshape((28, 28)), cmap='gray')\n"
   ]
  },
  {
   "cell_type": "markdown",
   "metadata": {},
   "source": [
    "#### Construct Computational Graph.\n",
    "\n",
    "Computational graph consist of following components:\n",
    "\n",
    "##### 1. Placeholders:\n",
    "   Placeholders are for creating nodes for the input images and target output classes."
   ]
  },
  {
   "cell_type": "code",
   "execution_count": 14,
   "metadata": {
    "collapsed": true
   },
   "outputs": [],
   "source": [
    "x = tf.placeholder(tf.float32, shape=[None, 784])\n",
    "y_ = tf.placeholder(tf.float32, shape=[None, 10])"
   ]
  },
  {
   "cell_type": "markdown",
   "metadata": {},
   "source": [
    "x and _y gets value when tensorflow we ask tensorflow to run a computation.\n",
    "x is a 2D tensor, where number of rows is not mentioned and column value is fixed with 784(28 x 28). During execution phase, rows will be determined based on user's input.\n",
    "Similarly, for _y column value is fixed with value 10 (1 for each digit) and row value will be determined at execution phase."
   ]
  },
  {
   "cell_type": "markdown",
   "metadata": {},
   "source": [
    "##### 2.Variables:\n",
    "we use variables for weights and biases. This is because, their values are constanly updated during exceution phase to reduce ccost function.\n",
    "\n",
    "Since there are 784 pixel values and 10 classes, weight matrix will be of size 784 x 10\n",
    "and bias will have size 10 for 10 digits."
   ]
  },
  {
   "cell_type": "code",
   "execution_count": 15,
   "metadata": {
    "collapsed": true
   },
   "outputs": [],
   "source": [
    "W = tf.Variable(tf.zeros([784,10]))\n",
    "b = tf.Variable(tf.zeros([10]))"
   ]
  },
  {
   "cell_type": "markdown",
   "metadata": {},
   "source": [
    "As all the varibles need to be initialized before they are run in execution phase, we need to call a function that take care of initializing all variables."
   ]
  },
  {
   "cell_type": "code",
   "execution_count": 16,
   "metadata": {
    "collapsed": true
   },
   "outputs": [],
   "source": [
    "init= tf.global_variables_initializer()"
   ]
  },
  {
   "cell_type": "markdown",
   "metadata": {},
   "source": [
    "#### Create Model and Loss Function\n",
    "\n",
    "The model we will be using to idenify digits is simple Logistic Regressor.In tensorfflow, it only takes one line, We multiply the vectorized input images x by the weight matrix W, add the bias b.\n",
    "\n",
    "Loss function indicates how bad the model's prediction was on a single example. We try to minimize that while training across all the examples.Tensorflow has many Loss functions define. Here, our loss function is the cross-entropy between the target and the softmax activation function applied to the model's prediction. "
   ]
  },
  {
   "cell_type": "code",
   "execution_count": 17,
   "metadata": {
    "collapsed": true
   },
   "outputs": [],
   "source": [
    "y = tf.matmul(x,W) + b"
   ]
  },
  {
   "cell_type": "code",
   "execution_count": 18,
   "metadata": {
    "collapsed": true
   },
   "outputs": [],
   "source": [
    "cross_entropy = tf.reduce_mean(tf.nn.softmax_cross_entropy_with_logits(labels=y_, logits=y))"
   ]
  },
  {
   "cell_type": "markdown",
   "metadata": {},
   "source": [
    "TensorFlow has a variety of built-in optimization algorithms. For this example, we will use steepest gradient descent, with a step length of 0.5, to descend the cross entropy. \n",
    "\n",
    "Model can be saved using tf.train.Saver function"
   ]
  },
  {
   "cell_type": "code",
   "execution_count": 19,
   "metadata": {
    "collapsed": true
   },
   "outputs": [],
   "source": [
    "train_step = tf.train.GradientDescentOptimizer(0.5).minimize(cross_entropy)\n",
    "saver = tf.train.Saver()"
   ]
  },
  {
   "cell_type": "markdown",
   "metadata": {},
   "source": [
    "#### Train the Model\n",
    "\n",
    "The model is trained using following steps:\n",
    "1. Create a session to run entire Computational graph.\n",
    "2. Initialize variables using init function.\n",
    "3. Model is trained in mini batches of 100 images per step for 1000 epochs(number of times).In each step, parameters weights(W) and biases(b) are updated, constanly improving the model's performance.\n",
    "4. Finally model is saved for later use.\n"
   ]
  },
  {
   "cell_type": "code",
   "execution_count": 22,
   "metadata": {},
   "outputs": [
    {
     "name": "stdout",
     "output_type": "stream",
     "text": [
      "Model saved in file: ../model.ckpt\n"
     ]
    }
   ],
   "source": [
    "with tf.Session() as sess:\n",
    "    sess.run(init)\n",
    "    for _ in range(1000):\n",
    "        batch = mnist.train.next_batch(100)\n",
    "        train_step.run(feed_dict={x: batch[0], y_: batch[1]})\n",
    "    save_path = saver.save(sess, \"../model.ckpt\")\n",
    "    print(\"Model saved in file: %s\" % save_path)"
   ]
  },
  {
   "cell_type": "markdown",
   "metadata": {},
   "source": [
    "#### Evaluate the Model\n",
    "\n",
    "In model evaluation phase, we will figure out where we predicted the correct label. we use tf.argmax  function which gives the index of the highest entry in a tensor along some axis.\n",
    "That gives us a list of booleans. To determine what fraction are correct, we cast to floating point numbers and then take the mean to determine the final accuracy. \n",
    "we can also plot confusion matrix using tf.confusion_matrix function."
   ]
  },
  {
   "cell_type": "code",
   "execution_count": 27,
   "metadata": {},
   "outputs": [],
   "source": [
    "correct_prediction = tf.equal(tf.argmax(y,1), tf.argmax(y_,1))\n",
    "confusion = tf.confusion_matrix(tf.argmax(y, 1),tf.argmax(y_, 1))"
   ]
  },
  {
   "cell_type": "code",
   "execution_count": 28,
   "metadata": {
    "collapsed": true
   },
   "outputs": [],
   "source": [
    "accuracy = tf.reduce_mean(tf.cast(correct_prediction, tf.float32))"
   ]
  },
  {
   "cell_type": "markdown",
   "metadata": {},
   "source": [
    "#### Load the saved model\n",
    "We can load the previous saved model using saver.restore() function and then evaluate model accuarcy using MNIST test data.\n"
   ]
  },
  {
   "cell_type": "code",
   "execution_count": 35,
   "metadata": {},
   "outputs": [
    {
     "name": "stdout",
     "output_type": "stream",
     "text": [
      "INFO:tensorflow:Restoring parameters from ../model.ckpt\n",
      "Test data accuracy: 0.9149\n"
     ]
    }
   ],
   "source": [
    "with tf.Session() as sess:\n",
    "    saver.restore(sess,\"../model.ckpt\")\n",
    "    test_accuracy = accuracy.eval(feed_dict={x: mnist.test.images, y_: mnist.test.labels})\n",
    "    test_confusion = sess.run(confusion, feed_dict={x: mnist.test.images, y_: mnist.test.labels})\n",
    "print('Test data accuracy: %g' % (test_accuracy))\n"
   ]
  },
  {
   "cell_type": "markdown",
   "metadata": {},
   "source": [
    "Below is the code for displaying confusion matrix"
   ]
  },
  {
   "cell_type": "code",
   "execution_count": 36,
   "metadata": {},
   "outputs": [
    {
     "data": {
      "image/png": "[encoded data removed]",
      "text/plain": [
       "<matplotlib.figure.Figure at 0x7f099c4cf898>"
      ]
     },
     "metadata": {},
     "output_type": "display_data"
    }
   ],
   "source": [
    "LABELS=[0,1,2,3,4,5,6,7,8,9]\n",
    "plt.figure(figsize=(8,8))\n",
    "sns.heatmap(test_confusion, xticklabels=LABELS, yticklabels=LABELS, annot=True, fmt=\"d\");\n",
    "plt.title(\"Confusion matrix\")\n",
    "plt.ylabel('True class')\n",
    "plt.xlabel('Predicted class')\n",
    "plt.show()"
   ]
  },
  {
   "cell_type": "markdown",
   "metadata": {},
   "source": []
  },
  {
   "cell_type": "markdown",
   "metadata": {},
   "source": [
    "References:\n",
    "    \n",
    "http://yann.lecun.com/exdb/mnist/\n",
    "\n",
    "https://www.tensorflow.org/get_started/mnist/beginners\n",
    "\n",
    "https://www.tensorflow.org/get_started/mnist/pros\n"
   ]
  },
  {
   "cell_type": "markdown",
   "metadata": {},
   "source": []
  }
 ],
 "metadata": {
  "kernelspec": {
   "display_name": "Python 3",
   "language": "python",
   "name": "python3"
  },
  "language_info": {
   "codemirror_mode": {
    "name": "ipython",
    "version": 3
   },
   "file_extension": ".py",
   "mimetype": "text/x-python",
   "name": "python",
   "nbconvert_exporter": "python",
   "pygments_lexer": "ipython3",
   "version": "3.6.2"
  }
 },
 "nbformat": 4,
 "nbformat_minor": 2
}
