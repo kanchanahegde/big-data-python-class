{
 "cells": [
  {
   "cell_type": "markdown",
   "metadata": {},
   "source": [
    "### Extract characters from string or file by regular expression and re module. \n",
    "\n",
    "References:\n",
    "\n",
    "https://www.tutorialspoint.com/python/python_reg_expressions.htm\n",
    "\n",
    "https://www.analyticsvidhya.com/blog/2015/06/regular-expression-python/"
   ]
  },
  {
   "cell_type": "markdown",
   "metadata": {},
   "source": [
    "#### Following are the list of operators that helps to generate an expression,which can be used to extract a characters from string or file.\n",
    "\n",
    "'\\w'   : matches any alphanumberic characters\n",
    "\n",
    "'\\W'   : matches non alphanumberic characters\n",
    "\n",
    "'\\d'   : matches digits[0..9]\n",
    "\n",
    "'\\D'   : matches nondigits\n",
    "\n",
    "'\\s'   : matches any whitespace(space,tab,newline,return)\n",
    "\n",
    "'\\S'   : matches non-whitespace characters\n",
    "\n",
    "'\\b'   : boundary between word and non-word\n",
    "\n",
    "'.'    : matches any single character except newline\n",
    "\n",
    "'*'    : 0 or more occurance of the patterns\n",
    "\n",
    "'+'    : 1 or more occurance of the patterns\n",
    "\n",
    "'?'    : 0 or 1 occurance of the patterns\n",
    "\n",
    "'a|b'  : matches a or b\n",
    "\n",
    "'^'    : matches start of string\n",
    "\n",
    "'$'    : matches end of string\n",
    "\n",
    "'\\'    : matches special characters ex: '.' in a string , '\\.'\n",
    "\n",
    "'[..]' : matches character inside square bracket\n",
    "\n",
    "'[^..]': matches characters not inside square bracket\n",
    "\n",
    "()     : groups regular expression and return matched string\n"
   ]
  },
  {
   "cell_type": "markdown",
   "metadata": {},
   "source": [
    "#### Following are the most common re module methods used to extract characters from file/string. \n",
    "\n",
    "re.match()\n",
    "\n",
    "re.search()\n",
    "\n",
    "re.findall()\n",
    "\n",
    "re.sub()\n",
    "\n",
    "re.split()"
   ]
  },
  {
   "cell_type": "code",
   "execution_count": 128,
   "metadata": {
    "collapsed": true
   },
   "outputs": [],
   "source": [
    "# Import regexp module into the script\n",
    "import re"
   ]
  },
  {
   "cell_type": "code",
   "execution_count": 138,
   "metadata": {
    "collapsed": true
   },
   "outputs": [],
   "source": [
    "string=\"Hello everyone!,let's explore re module. Hello everyone!,let's explore re module.\"\n"
   ]
  },
  {
   "cell_type": "markdown",
   "metadata": {},
   "source": [
    "###### re.match()"
   ]
  },
  {
   "cell_type": "code",
   "execution_count": 133,
   "metadata": {},
   "outputs": [
    {
     "name": "stdout",
     "output_type": "stream",
     "text": [
      "<_sre.SRE_Match object; span=(0, 5), match='Hello'>\n",
      "Hello 0 5\n"
     ]
    }
   ],
   "source": [
    "# re.match returns matched object, if it occurs at the start of the string\n",
    "result=re.match(r'Hello',string)\n",
    "print(result)\n",
    "print(result.group(0),result.start(),result.end())"
   ]
  },
  {
   "cell_type": "code",
   "execution_count": 134,
   "metadata": {},
   "outputs": [
    {
     "name": "stdout",
     "output_type": "stream",
     "text": [
      "None\n"
     ]
    }
   ],
   "source": [
    "result=re.match(r'everyone',string)\n",
    "print(result)  # returns None, as pattern doesnot occur at start of the string"
   ]
  },
  {
   "cell_type": "markdown",
   "metadata": {},
   "source": [
    "###### re.search()\n",
    "\n",
    "Similar to re.match, but is not restricted to start of the string.\n",
    "It returns the first occurance of pattern in string."
   ]
  },
  {
   "cell_type": "code",
   "execution_count": 135,
   "metadata": {},
   "outputs": [
    {
     "name": "stdout",
     "output_type": "stream",
     "text": [
      "<_sre.SRE_Match object; span=(6, 14), match='everyone'>\n",
      "everyone 6 14\n"
     ]
    }
   ],
   "source": [
    "result=re.search(r'everyone',string)\n",
    "print(result)\n",
    "print(result.group(0),result.start(),result.end())"
   ]
  },
  {
   "cell_type": "markdown",
   "metadata": {},
   "source": [
    "###### re.findall()\n",
    "\n",
    "It returns list of all occurance of pattern in string."
   ]
  },
  {
   "cell_type": "code",
   "execution_count": 139,
   "metadata": {},
   "outputs": [
    {
     "name": "stdout",
     "output_type": "stream",
     "text": [
      "['Hello', 'Hello']\n"
     ]
    }
   ],
   "source": [
    "result=re.findall(r'Hello',string)\n",
    "print(result)"
   ]
  },
  {
   "cell_type": "code",
   "execution_count": 140,
   "metadata": {},
   "outputs": [
    {
     "name": "stdout",
     "output_type": "stream",
     "text": [
      "[]\n"
     ]
    }
   ],
   "source": [
    "# no match \n",
    "result=re.findall(r'python',string)\n",
    "print(result)"
   ]
  },
  {
   "cell_type": "markdown",
   "metadata": {},
   "source": [
    "###### re.split()\n",
    "\n",
    "splits the string based on pattern"
   ]
  },
  {
   "cell_type": "code",
   "execution_count": 141,
   "metadata": {},
   "outputs": [
    {
     "name": "stdout",
     "output_type": "stream",
     "text": [
      "['Hello', \"everyone!,let's\", 'explore', 're', 'module.', 'Hello', \"everyone!,let's\", 'explore', 're', 'module.']\n"
     ]
    }
   ],
   "source": [
    "result=re.split(r' ',string)\n",
    "print(result)"
   ]
  },
  {
   "cell_type": "markdown",
   "metadata": {},
   "source": [
    "###### re.sub()\n",
    "\n",
    "search for the pattern, and if pattern found,then replace it with the new pattern "
   ]
  },
  {
   "cell_type": "code",
   "execution_count": 143,
   "metadata": {},
   "outputs": [
    {
     "data": {
      "text/plain": [
       "\"Hello everyone!,let's explore re module. Hello everyone!,let's explore re module.\""
      ]
     },
     "execution_count": 143,
     "metadata": {},
     "output_type": "execute_result"
    }
   ],
   "source": [
    "string=\"hello everyone!,let's explore re module. hello everyone!,let's explore re module.\"\n",
    "re.sub(\"hello\",\"Hello\",string)"
   ]
  },
  {
   "cell_type": "markdown",
   "metadata": {},
   "source": [
    "##### Regular Expression Examples"
   ]
  },
  {
   "cell_type": "code",
   "execution_count": 144,
   "metadata": {},
   "outputs": [
    {
     "name": "stdout",
     "output_type": "stream",
     "text": [
      "['h', 'e', 'l', 'l', 'o', 'e', 'v', 'e', 'r', 'y', 'o', 'n', 'e', 'l', 'e', 't', 's', 'e', 'x', 'p', 'l', 'o', 'r', 'e', 'r', 'e', 'm', 'o', 'd', 'u', 'l', 'e', 'h', 'e', 'l', 'l', 'o', 'e', 'v', 'e', 'r', 'y', 'o', 'n', 'e', 'l', 'e', 't', 's', 'e', 'x', 'p', 'l', 'o', 'r', 'e', 'r', 'e', 'm', 'o', 'd', 'u', 'l', 'e']\n"
     ]
    }
   ],
   "source": [
    "# get all alphanumeric characters\n",
    "result=re.findall(r'\\w',string)\n",
    "print(result)"
   ]
  },
  {
   "cell_type": "code",
   "execution_count": 145,
   "metadata": {},
   "outputs": [
    {
     "data": {
      "text/plain": [
       "['re module', 're module']"
      ]
     },
     "execution_count": 145,
     "metadata": {},
     "output_type": "execute_result"
    }
   ],
   "source": [
    "# find pattern surrounded by boundary(\\b)\n",
    "s=\"re module, module , re module, re\"\n",
    "result=re.findall(r'\\bre module\\b',s)\n",
    "result"
   ]
  },
  {
   "cell_type": "code",
   "execution_count": 146,
   "metadata": {},
   "outputs": [
    {
     "name": "stdout",
     "output_type": "stream",
     "text": [
      "['hello', 'everyone', 'let', 's', 'explore', 're', 'module', 'hello', 'everyone', 'let', 's', 'explore', 're', 'module']\n"
     ]
    }
   ],
   "source": [
    "# returns words in string/file\n",
    "result=re.findall(r'\\w+',string)\n",
    "print(result)"
   ]
  },
  {
   "cell_type": "code",
   "execution_count": 147,
   "metadata": {},
   "outputs": [
    {
     "name": "stdout",
     "output_type": "stream",
     "text": [
      "['hello']\n"
     ]
    }
   ],
   "source": [
    "# returns first word in string/file\n",
    "result=re.findall(r'^\\w+',string)\n",
    "print(result)"
   ]
  },
  {
   "cell_type": "code",
   "execution_count": 148,
   "metadata": {},
   "outputs": [
    {
     "name": "stdout",
     "output_type": "stream",
     "text": [
      "[]\n"
     ]
    }
   ],
   "source": [
    "# returns last word in string/file\n",
    "s=\"hello world!\"\n",
    "result=re.findall(r'\\w+$',s)\n",
    "print(result)# empty as last character is not alphanumeric"
   ]
  },
  {
   "cell_type": "code",
   "execution_count": 149,
   "metadata": {},
   "outputs": [
    {
     "data": {
      "text/plain": [
       "['@gmail.com', '@abc.in', '@xyz.com']"
      ]
     },
     "execution_count": 149,
     "metadata": {},
     "output_type": "execute_result"
    }
   ],
   "source": [
    "# get everything after @ symbol \n",
    "string=\"test.1@gmail.com, test.2@abc.in, test3@xyz.com\"\n",
    "result=re.findall(r'@\\w+\\.\\w+',string)\n",
    "result"
   ]
  },
  {
   "cell_type": "code",
   "execution_count": 150,
   "metadata": {},
   "outputs": [
    {
     "data": {
      "text/plain": [
       "['com', 'in', 'com']"
      ]
     },
     "execution_count": 150,
     "metadata": {},
     "output_type": "execute_result"
    }
   ],
   "source": [
    "# get only domain\n",
    "string=\"test@gmail.com, test1@abc.in, test2@xyz.com\"\n",
    "result=re.findall(r'@\\w+\\.(\\w+)',string)\n",
    "result"
   ]
  },
  {
   "cell_type": "code",
   "execution_count": 151,
   "metadata": {},
   "outputs": [
    {
     "data": {
      "text/plain": [
       "[' 22-04-1992,', ' 30/07/1988 ']"
      ]
     },
     "execution_count": 151,
     "metadata": {},
     "output_type": "execute_result"
    }
   ],
   "source": [
    "# get date of the format dd-mm-yyyy\n",
    "string=\"xyz 34 22-04-1992,abc 56 30/07/1988  09/07/19999998\"\n",
    "result=re.findall(r'[^0-9]\\d{2}-\\d{2}-\\d{4}[^0-9]|[^0-9]\\d{2}/\\d{2}/\\d{4}[^0-9]',string)\n",
    "result"
   ]
  },
  {
   "cell_type": "code",
   "execution_count": 152,
   "metadata": {},
   "outputs": [
    {
     "data": {
      "text/plain": [
       "['Hello', 'module', 'module', 'H']"
      ]
     },
     "execution_count": 152,
     "metadata": {},
     "output_type": "execute_result"
    }
   ],
   "source": [
    "# fetch all words starting with 'H','m'\n",
    "string=\"Hello everyone!,let's explore re module. hello everyone!,let's explore re module H.\"\n",
    "result= re.findall(r'[Hm]\\w*',string)\n",
    "result"
   ]
  },
  {
   "cell_type": "code",
   "execution_count": null,
   "metadata": {
    "collapsed": true
   },
   "outputs": [],
   "source": []
  },
  {
   "cell_type": "code",
   "execution_count": null,
   "metadata": {
    "collapsed": true
   },
   "outputs": [],
   "source": []
  }
 ],
 "metadata": {
  "kernelspec": {
   "display_name": "Python 3",
   "language": "python",
   "name": "python3"
  },
  "language_info": {
   "codemirror_mode": {
    "name": "ipython",
    "version": 3
   },
   "file_extension": ".py",
   "mimetype": "text/x-python",
   "name": "python",
   "nbconvert_exporter": "python",
   "pygments_lexer": "ipython3",
   "version": "3.6.2"
  }
 },
 "nbformat": 4,
 "nbformat_minor": 2
}
